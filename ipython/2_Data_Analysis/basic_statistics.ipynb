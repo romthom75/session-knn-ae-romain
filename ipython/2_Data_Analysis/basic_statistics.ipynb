{
 "cells": [
  {
   "cell_type": "code",
   "execution_count": 1,
   "metadata": {},
   "outputs": [
    {
     "name": "stderr",
     "output_type": "stream",
     "text": [
      "C:\\Users\\romai\\anaconda3\\Lib\\site-packages\\pandas\\core\\arrays\\masked.py:60: UserWarning: Pandas requires version '1.3.6' or newer of 'bottleneck' (version '1.3.5' currently installed).\n",
      "  from pandas.core import (\n"
     ]
    }
   ],
   "source": [
    "import pandas as pd\n",
    "import os"
   ]
  },
  {
   "cell_type": "code",
   "execution_count": 2,
   "metadata": {},
   "outputs": [],
   "source": [
    "def print_stats(df):\n",
    "    num_interact = len(df)\n",
    "    num_jobs = df[\"item_id\"].nunique()\n",
    "    num_users = df[\"user_id\"].nunique()\n",
    "    num_sessions = df[\"session_id\"].nunique()\n",
    "    sparsity = 1 - num_interact / (num_jobs * num_sessions)\n",
    "\n",
    "    print(f\"# Interact: {num_interact} # Sessions: {num_sessions} # Jobs: {num_jobs} (# User: {num_users}) Sparsity: {sparsity:.4f}\")"
   ]
  },
  {
   "cell_type": "code",
   "execution_count": 3,
   "metadata": {},
   "outputs": [],
   "source": [
    "path =  \"../../data/\"\n",
    "dataset = \"cb12/\"\n",
    "\n",
    "raw_path = path + dataset + \"raw/\" \n",
    "interim_path = path + dataset + \"interim/\"\n",
    "processed_path = path + dataset + \"processed/\""
   ]
  },
  {
   "cell_type": "code",
   "execution_count": 4,
   "metadata": {},
   "outputs": [
    {
     "name": "stdout",
     "output_type": "stream",
     "text": [
      "# Interact: 47423 # Sessions: 9094 # Jobs: 34880 (# User: 6988) Sparsity: 0.9999\n"
     ]
    }
   ],
   "source": [
    "df = pd.read_csv(interim_path + \"merged_valid_interactions.csv\", header=0, sep='\\t')\n",
    "print_stats(df)"
   ]
  },
  {
   "cell_type": "code",
   "execution_count": 5,
   "metadata": {},
   "outputs": [
    {
     "name": "stdout",
     "output_type": "stream",
     "text": [
      "# Interact: 45392 # Sessions: 8753 # Jobs: 34880 (# User: 6783) Sparsity: 0.9999\n"
     ]
    }
   ],
   "source": [
    "df = pd.read_csv(processed_path + \"train_valid_14d.csv\", header=0, sep='\\t')\n",
    "print_stats(df)"
   ]
  },
  {
   "cell_type": "code",
   "execution_count": 6,
   "metadata": {},
   "outputs": [
    {
     "name": "stdout",
     "output_type": "stream",
     "text": [
      "# Interact: 2031 # Sessions: 341 # Jobs: 1426 (# User: 309) Sparsity: 0.9958\n"
     ]
    }
   ],
   "source": [
    "df = pd.read_csv(processed_path + \"test_valid_14d.csv\", header=0, sep='\\t')\n",
    "print_stats(df)"
   ]
  },
  {
   "cell_type": "code",
   "execution_count": 7,
   "metadata": {},
   "outputs": [
    {
     "name": "stdout",
     "output_type": "stream",
     "text": [
      "papers =\n",
      "CareerBuilder12\n",
      "# Interact: 661,910 # Sessions: 120,147 # Jobs: 197,590 (# User: _____) Sparsity: 99.99\n"
     ]
    }
   ],
   "source": [
    "print(\"papers =\")\n",
    "print(\"CareerBuilder12\")\n",
    "print(\"# Interact: 661,910 # Sessions: 120,147 # Jobs: 197,590 (# User: _____) Sparsity: 99.99\")"
   ]
  },
  {
   "cell_type": "code",
   "execution_count": null,
   "metadata": {},
   "outputs": [],
   "source": []
  },
  {
   "cell_type": "code",
   "execution_count": null,
   "metadata": {},
   "outputs": [],
   "source": []
  },
  {
   "cell_type": "code",
   "execution_count": null,
   "metadata": {},
   "outputs": [],
   "source": []
  }
 ],
 "metadata": {
  "kernelspec": {
   "display_name": "Python 3 (ipykernel)",
   "language": "python",
   "name": "python3"
  },
  "language_info": {
   "codemirror_mode": {
    "name": "ipython",
    "version": 3
   },
   "file_extension": ".py",
   "mimetype": "text/x-python",
   "name": "python",
   "nbconvert_exporter": "python",
   "pygments_lexer": "ipython3",
   "version": "3.11.7"
  }
 },
 "nbformat": 4,
 "nbformat_minor": 4
}
